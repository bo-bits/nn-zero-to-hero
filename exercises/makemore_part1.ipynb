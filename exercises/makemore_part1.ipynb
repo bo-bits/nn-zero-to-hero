{
  "nbformat": 4,
  "nbformat_minor": 0,
  "metadata": {
    "colab": {
      "provenance": [],
      "authorship_tag": "ABX9TyNF2ZEHp5Uyz6wb25oGaHay",
      "include_colab_link": true
    },
    "kernelspec": {
      "name": "python3",
      "display_name": "Python 3"
    },
    "language_info": {
      "name": "python"
    }
  },
  "cells": [
    {
      "cell_type": "markdown",
      "metadata": {
        "id": "view-in-github",
        "colab_type": "text"
      },
      "source": [
        "<a href=\"https://colab.research.google.com/github/bo-bits/nn-zero-to-hero/blob/master/exercises/makemore_part1.ipynb\" target=\"_parent\"><img src=\"https://colab.research.google.com/assets/colab-badge.svg\" alt=\"Open In Colab\"/></a>"
      ]
    },
    {
      "cell_type": "markdown",
      "source": [
        "E01: train a trigram language model, i.e. take two characters as an input to predict the 3rd one. Feel free to use either counting or a neural net. Evaluate the loss; Did it improve over a bigram model?"
      ],
      "metadata": {
        "id": "s6FNrkKZEiLQ"
      }
    },
    {
      "cell_type": "code",
      "source": [
        "# Trigram Model\n",
        "\n",
        "words = open('names.txt', 'r').read().splitlines()\n"
      ],
      "metadata": {
        "id": "3hCniXWZE5dA"
      },
      "execution_count": 176,
      "outputs": []
    },
    {
      "cell_type": "code",
      "source": [
        "# Initialize dictionaries stoi itos\n",
        "\n",
        "from itertools import islice\n",
        "\n",
        "chars = sorted(list(set(''.join(words))))\n",
        "chars.insert(0, '.')  # Insert the period as the first character\n",
        "\n",
        "# Initialize stoi for single characters\n",
        "stoi = {char: i for i, char in enumerate(chars)}  # Single character to index mapping\n",
        "\n",
        "# Start bigram indices after the single characters\n",
        "bigram_start_idx = len(stoi)\n",
        "\n",
        "# Add bigrams to stoi with unique indices\n",
        "for i, (char1, char2) in enumerate((a + b for a in chars for b in chars), bigram_start_idx):\n",
        "    stoi[char1 + char2] = i\n",
        "\n",
        "# Create itos for reverse mapping\n",
        "# itos = {i:s for i, s in enumerate(stoi)}\n",
        "itos = {i: s for s, i in stoi.items()}\n"
      ],
      "metadata": {
        "collapsed": true,
        "id": "n5wW-UlMvvtL"
      },
      "execution_count": 177,
      "outputs": []
    },
    {
      "cell_type": "code",
      "source": [
        "import torch\n",
        "import torch.nn.functional as F\n",
        "\n",
        "# Initialize\n",
        "g = torch.Generator().manual_seed(2147483647)\n",
        "W = torch.randn((756, 27), generator=g, requires_grad=True)\n",
        "\n",
        "# create the training set of trigrams (x,y)\n",
        "xs, ys = [], []\n",
        "for w in words:\n",
        "  chs = ['.'] + list(w) + ['.']\n",
        "  for ch1, ch2, ch3 in zip(chs, chs[1:], chs[2:]):\n",
        "    ix1 = stoi[ch1+ch2]\n",
        "    ix3 = stoi[ch3]\n",
        "    xs.append(ix1)\n",
        "    ys.append(ix3)\n",
        "xs = torch.tensor(xs)\n",
        "ys = torch.tensor(ys)\n",
        "num = xs.nelement()\n",
        "print('number of examples: ', num)"
      ],
      "metadata": {
        "id": "AOF8XEaVjo8E",
        "collapsed": true,
        "colab": {
          "base_uri": "https://localhost:8080/"
        },
        "outputId": "6fcee5ab-ba7c-4bca-e256-48bba28f3ff0"
      },
      "execution_count": 179,
      "outputs": [
        {
          "output_type": "stream",
          "name": "stdout",
          "text": [
            "number of examples:  17129\n"
          ]
        }
      ]
    },
    {
      "cell_type": "code",
      "source": [
        "for k in range(30):\n",
        "  # forward pass\n",
        "  xenc = F.one_hot(xs, num_classes=756).float() # input to the network: one-hot encoding\n",
        "  logits = xenc @ W # predict log-counts\n",
        "  counts = logits.exp() # counts, equivalent to N\n",
        "  probs = counts / counts.sum(1, keepdims=True) # probabilities for next character\n",
        "  loss = -probs[torch.arange(num), ys].log().mean()+ 0.01*(W**2).mean()\n",
        "  print(f\"Loss: \",loss.item())\n",
        "\n",
        "  # backward pass\n",
        "  W.grad = None # set to zero the gradient\n",
        "  loss.backward()\n",
        "  W.data += -50 * W.grad"
      ],
      "metadata": {
        "collapsed": true,
        "id": "op4jJpqQrW6_",
        "outputId": "c0b797a2-93a6-448f-c44e-7b4c0cd6e823",
        "colab": {
          "base_uri": "https://localhost:8080/"
        }
      },
      "execution_count": 182,
      "outputs": [
        {
          "output_type": "stream",
          "name": "stdout",
          "text": [
            "Loss:  3.4737541675567627\n",
            "Loss:  3.173428535461426\n",
            "Loss:  2.8988418579101562\n",
            "Loss:  2.653740167617798\n",
            "Loss:  2.4393434524536133\n",
            "Loss:  2.2530033588409424\n",
            "Loss:  2.0902934074401855\n",
            "Loss:  1.9472403526306152\n",
            "Loss:  1.8207788467407227\n",
            "Loss:  1.708559513092041\n",
            "Loss:  1.6087299585342407\n",
            "Loss:  1.5197772979736328\n",
            "Loss:  1.4404282569885254\n",
            "Loss:  1.3695957660675049\n",
            "Loss:  1.3063430786132812\n",
            "Loss:  1.2498607635498047\n",
            "Loss:  1.1994404792785645\n",
            "Loss:  1.154453158378601\n",
            "Loss:  1.1143321990966797\n",
            "Loss:  1.0785629749298096\n",
            "Loss:  1.0466748476028442\n",
            "Loss:  1.018239140510559\n",
            "Loss:  0.9928656220436096\n",
            "Loss:  0.970200777053833\n",
            "Loss:  0.9499266147613525\n",
            "Loss:  0.9317591190338135\n",
            "Loss:  0.915445864200592\n",
            "Loss:  0.9007627964019775\n",
            "Loss:  0.8875138163566589\n",
            "Loss:  0.8755264282226562\n"
          ]
        }
      ]
    },
    {
      "cell_type": "code",
      "source": [
        "# finally, sample from the 'neural net' model\n",
        "g = torch.Generator().manual_seed(2147483647+3)\n",
        "\n",
        "for i in range(5):\n",
        "  out = []\n",
        "  ix = stoi['..']\n",
        "  char1 = '.'\n",
        "  char2 = '.'\n",
        "  while True:\n",
        "    ix = stoi[char1+char2]\n",
        "    xenc = F.one_hot(torch.tensor([ix]), num_classes=756).float()\n",
        "    logits = xenc @ W # predict log-counts\n",
        "    counts = logits.exp() # counts, equivalent to N\n",
        "    p = counts / counts.sum(1, keepdims=True) # probabilities for next character\n",
        "\n",
        "    iy = torch.multinomial(p, num_samples=1, replacement=True, generator=g).item()\n",
        "    out.append(itos[iy])\n",
        "    char1 = char2\n",
        "    char2 = itos[iy]\n",
        "    if iy == 0:\n",
        "      break\n",
        "  print(''.join(out))"
      ],
      "metadata": {
        "id": "DbeRDg5FoN59",
        "collapsed": true,
        "colab": {
          "base_uri": "https://localhost:8080/"
        },
        "outputId": "96986e48-e6e9-481a-e2f1-93e24e69055c"
      },
      "execution_count": 191,
      "outputs": [
        {
          "output_type": "stream",
          "name": "stdout",
          "text": [
            "haidenjamxvia.\n",
            "harlebpmkagaider.\n",
            "ujpvoah.\n",
            "ail.\n",
            "ander.\n"
          ]
        }
      ]
    },
    {
      "cell_type": "markdown",
      "source": [
        "E02: split up the dataset randomly into 80% train set, 10% dev set, 10% test set. Train the bigram and trigram models only on the training set. Evaluate them on dev and test splits. What can you see?"
      ],
      "metadata": {
        "id": "1E_da2qIEtE7"
      }
    },
    {
      "cell_type": "code",
      "source": [
        "# Exercise 2"
      ],
      "metadata": {
        "id": "r8n7rr1gc9PZ"
      },
      "execution_count": null,
      "outputs": []
    },
    {
      "cell_type": "markdown",
      "source": [
        "E03: use the dev set to tune the strength of smoothing (or regularization) for the trigram model - i.e. try many possibilities and see which one works best based on the dev set loss. What patterns can you see in the train and dev set loss as you tune this strength? Take the best setting of the smoothing and evaluate on the test set once and at the end. How good of a loss do you achieve?"
      ],
      "metadata": {
        "id": "Nm5lYMRQEwyJ"
      }
    },
    {
      "cell_type": "code",
      "source": [
        "# Exercise 1"
      ],
      "metadata": {
        "id": "FuLMP9Atc_g7"
      },
      "execution_count": null,
      "outputs": []
    },
    {
      "cell_type": "markdown",
      "source": [
        "E04: we saw that our 1-hot vectors merely select a row of W, so producing these vectors explicitly feels wasteful. Can you delete our use of F.one_hot in favor of simply indexing into rows of W?"
      ],
      "metadata": {
        "id": "OOzpQ4y7Ez99"
      }
    },
    {
      "cell_type": "markdown",
      "source": [
        "E05: look up and use F.cross_entropy instead. You should achieve the same result. Can you think of why we'd prefer to use F.cross_entropy instead?"
      ],
      "metadata": {
        "id": "8VFHbjP8E1Zn"
      }
    },
    {
      "cell_type": "markdown",
      "source": [
        "\n",
        "E06: meta-exercise! Think of a fun/interesting exercise and complete it."
      ],
      "metadata": {
        "id": "E3yrXzL7E2oR"
      }
    },
    {
      "cell_type": "code",
      "execution_count": null,
      "metadata": {
        "id": "bd75241zCTcw"
      },
      "outputs": [],
      "source": []
    }
  ]
}