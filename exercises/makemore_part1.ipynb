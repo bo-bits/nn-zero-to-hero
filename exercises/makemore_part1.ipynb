{
  "nbformat": 4,
  "nbformat_minor": 0,
  "metadata": {
    "colab": {
      "provenance": [],
      "authorship_tag": "ABX9TyMkkn54/puH0ZwLDtQYujX7",
      "include_colab_link": true
    },
    "kernelspec": {
      "name": "python3",
      "display_name": "Python 3"
    },
    "language_info": {
      "name": "python"
    }
  },
  "cells": [
    {
      "cell_type": "markdown",
      "metadata": {
        "id": "view-in-github",
        "colab_type": "text"
      },
      "source": [
        "<a href=\"https://colab.research.google.com/github/bo-bits/nn-zero-to-hero/blob/master/exercises/makemore_part1.ipynb\" target=\"_parent\"><img src=\"https://colab.research.google.com/assets/colab-badge.svg\" alt=\"Open In Colab\"/></a>"
      ]
    },
    {
      "cell_type": "markdown",
      "source": [
        "E01: train a trigram language model, i.e. take two characters as an input to predict the 3rd one. Feel free to use either counting or a neural net. Evaluate the loss; Did it improve over a bigram model?"
      ],
      "metadata": {
        "id": "s6FNrkKZEiLQ"
      }
    },
    {
      "cell_type": "code",
      "source": [
        "# Trigram Model\n",
        "\n",
        "words = open('names.txt', 'r').read().splitlines()\n"
      ],
      "metadata": {
        "id": "3hCniXWZE5dA"
      },
      "execution_count": 3,
      "outputs": []
    },
    {
      "cell_type": "code",
      "source": [
        "# Initialize dictionaries stoi itos\n",
        "\n",
        "from itertools import islice\n",
        "\n",
        "chars = sorted(list(set(''.join(words))))\n",
        "chars.insert(0, '.')  # Insert the period as the first character\n",
        "\n",
        "# Initialize stoi for single characters\n",
        "stoi = {char: i for i, char in enumerate(chars)}  # Single character to index mapping\n",
        "\n",
        "# Start bigram indices after the single characters\n",
        "bigram_start_idx = len(stoi)\n",
        "\n",
        "# Add bigrams to stoi with unique indices\n",
        "for i, (char1, char2) in enumerate((a + b for a in chars for b in chars), bigram_start_idx):\n",
        "    stoi[char1 + char2] = i\n",
        "\n",
        "# Create itos for reverse mapping\n",
        "# itos = {i:s for i, s in enumerate(stoi)}\n",
        "itos = {i: s for s, i in stoi.items()}\n"
      ],
      "metadata": {
        "collapsed": true,
        "id": "n5wW-UlMvvtL"
      },
      "execution_count": 4,
      "outputs": []
    },
    {
      "cell_type": "code",
      "source": [
        "import torch\n",
        "import torch.nn.functional as F\n",
        "\n",
        "# Initialize\n",
        "g = torch.Generator().manual_seed(2147483647)\n",
        "W = torch.randn((756, 27), generator=g, requires_grad=True)\n",
        "\n",
        "# create the training set of trigrams (x,y)\n",
        "xs, ys = [], []\n",
        "for w in words:\n",
        "  chs = ['.'] + list(w) + ['.']\n",
        "  for ch1, ch2, ch3 in zip(chs, chs[1:], chs[2:]):\n",
        "    ix1 = stoi[ch1+ch2]\n",
        "    ix3 = stoi[ch3]\n",
        "    xs.append(ix1)\n",
        "    ys.append(ix3)\n",
        "xs = torch.tensor(xs)\n",
        "ys = torch.tensor(ys)\n",
        "num = xs.nelement()\n",
        "print('number of examples: ', num)"
      ],
      "metadata": {
        "id": "AOF8XEaVjo8E",
        "collapsed": true,
        "colab": {
          "base_uri": "https://localhost:8080/"
        },
        "outputId": "afd44dea-ba1d-46b9-ea80-499fb4ef0ca3"
      },
      "execution_count": 5,
      "outputs": [
        {
          "output_type": "stream",
          "name": "stdout",
          "text": [
            "number of examples:  17129\n"
          ]
        }
      ]
    },
    {
      "cell_type": "code",
      "source": [
        "for k in range(30):\n",
        "  # forward pass\n",
        "  xenc = F.one_hot(xs, num_classes=756).float() # input to the network: one-hot encoding\n",
        "  logits = xenc @ W # predict log-counts\n",
        "  counts = logits.exp() # counts, equivalent to N\n",
        "  probs = counts / counts.sum(1, keepdims=True) # probabilities for next character\n",
        "  loss = -probs[torch.arange(num), ys].log().mean()+ 0.01*(W**2).mean()\n",
        "  print(f\"Loss: \",loss.item())\n",
        "\n",
        "  # backward pass\n",
        "  W.grad = None # set to zero the gradient\n",
        "  loss.backward()\n",
        "  W.data += -50 * W.grad"
      ],
      "metadata": {
        "id": "op4jJpqQrW6_",
        "outputId": "b2ef0fd1-ee4f-4f7a-d2bc-2c26fa793ad7",
        "colab": {
          "base_uri": "https://localhost:8080/"
        }
      },
      "execution_count": 6,
      "outputs": [
        {
          "output_type": "stream",
          "name": "stdout",
          "text": [
            "Loss:  3.7961485385894775\n",
            "Loss:  3.4737541675567627\n",
            "Loss:  3.173428535461426\n",
            "Loss:  2.8988418579101562\n",
            "Loss:  2.653740167617798\n",
            "Loss:  2.4393434524536133\n",
            "Loss:  2.2530033588409424\n",
            "Loss:  2.0902934074401855\n",
            "Loss:  1.9472403526306152\n",
            "Loss:  1.8207788467407227\n",
            "Loss:  1.708559513092041\n",
            "Loss:  1.6087299585342407\n",
            "Loss:  1.5197772979736328\n",
            "Loss:  1.4404282569885254\n",
            "Loss:  1.3695957660675049\n",
            "Loss:  1.3063430786132812\n",
            "Loss:  1.2498607635498047\n",
            "Loss:  1.1994404792785645\n",
            "Loss:  1.154453158378601\n",
            "Loss:  1.1143321990966797\n",
            "Loss:  1.0785629749298096\n",
            "Loss:  1.0466748476028442\n",
            "Loss:  1.018239140510559\n",
            "Loss:  0.9928656220436096\n",
            "Loss:  0.970200777053833\n",
            "Loss:  0.9499266147613525\n",
            "Loss:  0.9317591190338135\n",
            "Loss:  0.915445864200592\n",
            "Loss:  0.9007627964019775\n",
            "Loss:  0.8875138163566589\n"
          ]
        }
      ]
    },
    {
      "cell_type": "code",
      "source": [
        "# finally, sample from the 'neural net' model\n",
        "g = torch.Generator().manual_seed(2147483647)\n",
        "\n",
        "for i in range(5):\n",
        "  out = []\n",
        "  ix = stoi['..']\n",
        "  char1 = '.'\n",
        "  char2 = '.'\n",
        "  while True:\n",
        "    ix = stoi[char1+char2]\n",
        "    xenc = F.one_hot(torch.tensor([ix]), num_classes=756).float()\n",
        "    logits = xenc @ W # predict log-counts\n",
        "    counts = logits.exp() # counts, equivalent to N\n",
        "    p = counts / counts.sum(1, keepdims=True) # probabilities for next character\n",
        "\n",
        "    iy = torch.multinomial(p, num_samples=1, replacement=True, generator=g).item()\n",
        "    out.append(itos[iy])\n",
        "    char1 = char2\n",
        "    char2 = itos[iy]\n",
        "    if iy == 0:\n",
        "      break\n",
        "  print(''.join(out))"
      ],
      "metadata": {
        "id": "DbeRDg5FoN59",
        "collapsed": true,
        "colab": {
          "base_uri": "https://localhost:8080/"
        },
        "outputId": "420314a8-5b05-40d7-c05b-c01958b0c5d1"
      },
      "execution_count": 9,
      "outputs": [
        {
          "output_type": "stream",
          "name": "stdout",
          "text": [
            "jamidenjacksam.\n",
            "pgzqkygbyn.\n",
            "avah.\n",
            "nott.\n",
            "charte.\n"
          ]
        }
      ]
    },
    {
      "cell_type": "markdown",
      "source": [
        "E02: split up the dataset randomly into 80% train set, 10% dev set, 10% test set. Train the bigram and trigram models only on the training set. Evaluate them on dev and test splits. What can you see?"
      ],
      "metadata": {
        "id": "1E_da2qIEtE7"
      }
    },
    {
      "cell_type": "code",
      "source": [
        "# Exercise 2\n",
        "\n",
        "import torch\n",
        "from torch.utils.data import TensorDataset, random_split\n",
        "import torch.nn.functional as F\n",
        "from itertools import islice\n",
        "\n",
        "\n",
        "words = open('names.txt', 'r').read().splitlines()\n",
        "\n",
        "# Initialize dictionaries stoi itos\n",
        "chars = sorted(list(set(''.join(words))))\n",
        "chars.insert(0, '.')\n",
        "stoi = {char: i for i, char in enumerate(chars)}\n",
        "bigram_start_idx = len(stoi)\n",
        "for i, (char1, char2) in enumerate((a + b for a in chars for b in chars), bigram_start_idx):\n",
        "    stoi[char1 + char2] = i\n",
        "itos = {i: s for s, i in stoi.items()}\n",
        "\n",
        "# create the training set of trigrams (x,y)\n",
        "xs, ys = [], []\n",
        "for w in words:\n",
        "  chs = ['.'] + list(w) + ['.']\n",
        "  for ch1, ch2, ch3 in zip(chs, chs[1:], chs[2:]):\n",
        "    ix1 = stoi[ch1+ch2]\n",
        "    ix3 = stoi[ch3]\n",
        "    xs.append(ix1)\n",
        "    ys.append(ix3)\n",
        "xs = torch.tensor(xs)\n",
        "ys = torch.tensor(ys)\n",
        "num = xs.nelement()\n",
        "print('number of examples: ', num)\n"
      ],
      "metadata": {
        "id": "r8n7rr1gc9PZ",
        "colab": {
          "base_uri": "https://localhost:8080/"
        },
        "outputId": "9d935739-11b6-4d77-8af4-ee9016d5d958"
      },
      "execution_count": 10,
      "outputs": [
        {
          "output_type": "stream",
          "name": "stdout",
          "text": [
            "number of examples:  17129\n"
          ]
        }
      ]
    },
    {
      "cell_type": "code",
      "source": [
        "# Divide dataset into 0.8 train 0.1 dev 0.1 test\n",
        "\n",
        "dataset = TensorDataset(xs, ys)\n",
        "\n",
        "# Define the split sizes\n",
        "train_size = int(0.8 * len(dataset))\n",
        "dev_size = int(0.1 * len(dataset))\n",
        "test_size = len(dataset) - train_size - dev_size\n",
        "\n",
        "# Split the dataset\n",
        "train_dataset, dev_dataset, test_dataset = random_split(dataset, [train_size, dev_size, test_size])\n",
        "\n",
        "# Access indices from the subsets\n",
        "train_indices = train_dataset.indices\n",
        "dev_indices = dev_dataset.indices\n",
        "test_indices = test_dataset.indices\n",
        "\n",
        "# Extract training tensors\n",
        "X_train = xs[train_indices]\n",
        "y_train = ys[train_indices]\n",
        "num_train = len(X_train)\n",
        "\n",
        "# Extract testing tensors\n",
        "X_dev = xs[dev_indices]\n",
        "y_dev = ys[dev_indices]\n",
        "num_dev = len(X_dev)\n",
        "\n",
        "# Extract testing tensors\n",
        "X_test = xs[test_indices]\n",
        "y_test = ys[test_indices]\n",
        "num_test = len(X_test)\n"
      ],
      "metadata": {
        "id": "lcbUvWfmCvfy"
      },
      "execution_count": 11,
      "outputs": []
    },
    {
      "cell_type": "code",
      "source": [
        "# Initialize and Train model\n",
        "\n",
        "g = torch.Generator().manual_seed(2147483647)\n",
        "W = torch.randn((756, 27), generator=g, requires_grad=True)\n",
        "\n",
        "for k in range(200):\n",
        "  # forward pass\n",
        "  xenc = F.one_hot(X_train, num_classes=756).float() # input to the network: one-hot encoding\n",
        "  logits = xenc @ W # predict log-counts\n",
        "  counts = logits.exp() # counts, equivalent to N\n",
        "  probs = counts / counts.sum(1, keepdims=True) # probabilities for next character\n",
        "  loss = -probs[torch.arange(num_train), y_train].log().mean()+ 0.01*(W**2).mean()\n",
        "  # print(f\"Loss: \",loss.item())\n",
        "\n",
        "  # backward pass\n",
        "  W.grad = None # set to zero the gradient\n",
        "  loss.backward()\n",
        "  W.data += -50 * W.grad\n",
        "\n",
        "# train_loss = train(1)\n",
        "# print(\"train_loss: \", train_loss)"
      ],
      "metadata": {
        "collapsed": true,
        "id": "owXKq05eMNsb"
      },
      "execution_count": 12,
      "outputs": []
    },
    {
      "cell_type": "code",
      "source": [
        "# Calculate performance\n",
        "def test(X, y, num, reg):\n",
        "  xenc = F.one_hot(X, num_classes=756).float() # input to the network: one-hot encoding\n",
        "  logits = xenc @ W # predict log-counts\n",
        "  counts = logits.exp() # counts, equivalent to N\n",
        "  probs = counts / counts.sum(1, keepdims=True) # probabilities for next character\n",
        "  loss = -probs[torch.arange(num), y].log().mean()+ reg*(W**2).mean()\n",
        "  return loss.item()\n",
        "\n",
        "# on dev set:\n",
        "dev_loss = test(X_dev, y_dev, num_dev, 1)\n",
        "print(\"dev_loss: \", dev_loss)\n",
        "\n",
        "# On test set:\n",
        "test_loss = test(X_test, y_test, num_test, 1)\n",
        "print(\"test_loss: \", test_loss)\n",
        "\n"
      ],
      "metadata": {
        "id": "C3ZztjcsMxmt",
        "outputId": "20cfbb75-cc15-4216-d797-326ef25626e0",
        "colab": {
          "base_uri": "https://localhost:8080/"
        }
      },
      "execution_count": 23,
      "outputs": [
        {
          "output_type": "stream",
          "name": "stdout",
          "text": [
            "dev_loss:  1.3015379905700684\n",
            "test_loss:  1.3170948028564453\n"
          ]
        }
      ]
    },
    {
      "cell_type": "markdown",
      "source": [
        "Performance on test and dev sets is slightly worse than on the training set"
      ],
      "metadata": {
        "id": "UgxwIpPEO_L8"
      }
    },
    {
      "cell_type": "markdown",
      "source": [
        "E03: use the dev set to tune the strength of smoothing (or regularization) for the trigram model - i.e. try many possibilities and see which one works best based on the dev set loss. What patterns can you see in the train and dev set loss as you tune this strength? Take the best setting of the smoothing and evaluate on the test set once and at the end. How good of a loss do you achieve?"
      ],
      "metadata": {
        "id": "Nm5lYMRQEwyJ"
      }
    },
    {
      "cell_type": "code",
      "source": [
        "# Exercise 3\n",
        "\n",
        "# Let's variabilize the hyperparameters for all sets and output the losses, save to a file, and compare.\n",
        "# Fixed: k (iterations), step-size (50)\n",
        "\n",
        "regs = [10, 1, 0.1, 0.01, 0.001, 0.0001, 0.00001]\n",
        "for reg in regs:\n",
        "  # Train model\n",
        "  train_loss = train(reg)\n",
        "  # Dev\n",
        "  dev_loss = test(X_dev,y_dev, num_dev, reg)\n",
        "  # Test\n",
        "  test_loss = test(X_test, y_test, num_test, reg)\n",
        "\n",
        "  print(\"\\n\\nFor reg = \", reg)\n",
        "  print(\"Training loss = \", train_loss)\n",
        "  print(\"Dev loss = \", dev_loss)\n",
        "  print(\"Test loss = \", test_loss)\n"
      ],
      "metadata": {
        "id": "FuLMP9Atc_g7",
        "colab": {
          "base_uri": "https://localhost:8080/"
        },
        "outputId": "4c99d027-543e-4374-9d2c-4e7237d0d98c"
      },
      "execution_count": 44,
      "outputs": [
        {
          "output_type": "stream",
          "name": "stdout",
          "text": [
            "\n",
            "\n",
            "For reg =  10\n",
            "Training loss =  1.8622887134552002\n",
            "Dev loss =  2.7129669189453125\n",
            "Test loss =  2.691798210144043\n",
            "\n",
            "\n",
            "For reg =  1\n",
            "Training loss =  1.2911691665649414\n",
            "Dev loss =  0.9455105066299438\n",
            "Test loss =  0.9243417978286743\n",
            "\n",
            "\n",
            "For reg =  0.1\n",
            "Training loss =  0.8087396025657654\n",
            "Dev loss =  0.7687649130821228\n",
            "Test loss =  0.7475962042808533\n",
            "\n",
            "\n",
            "For reg =  0.01\n",
            "Training loss =  0.7052651643753052\n",
            "Dev loss =  0.7510903477668762\n",
            "Test loss =  0.7299216389656067\n",
            "\n",
            "\n",
            "For reg =  0.001\n",
            "Training loss =  0.6940540671348572\n",
            "Dev loss =  0.7493228912353516\n",
            "Test loss =  0.728154182434082\n",
            "\n",
            "\n",
            "For reg =  0.0001\n",
            "Training loss =  0.6929238438606262\n",
            "Dev loss =  0.7491461038589478\n",
            "Test loss =  0.7279773950576782\n",
            "\n",
            "\n",
            "For reg =  1e-05\n",
            "Training loss =  0.6928107738494873\n",
            "Dev loss =  0.7491284608840942\n",
            "Test loss =  0.7279597520828247\n"
          ]
        }
      ]
    },
    {
      "cell_type": "markdown",
      "source": [
        "E04: we saw that our 1-hot vectors merely select a row of W, so producing these vectors explicitly feels wasteful. Can you delete our use of F.one_hot in favor of simply indexing into rows of W?"
      ],
      "metadata": {
        "id": "OOzpQ4y7Ez99"
      }
    },
    {
      "cell_type": "code",
      "source": [
        "# initialize and train model\n",
        "def train_4(reg=0.001):\n",
        "  # Initialize Network\n",
        "  g = torch.Generator().manual_seed(2147483647)\n",
        "  W = torch.randn((756, 27), generator=g, requires_grad=True)\n",
        "\n",
        "  for k in range(100):\n",
        "    # forward pass\n",
        "    logits = W[X_train] # predict log-counts\n",
        "    counts = logits.exp() # counts, equivalent to N\n",
        "    probs = counts / counts.sum(1, keepdims=True) # probabilities for next character\n",
        "    loss = -probs[torch.arange(num_train), y_train].log().mean()\n",
        "    # print(f\"Loss: \",loss.item())\n",
        "\n",
        "    # backward pass\n",
        "    W.grad = None # set to zero the gradient\n",
        "    loss.backward()\n",
        "    W.data += -50 * W.grad\n",
        "  return loss.item()\n",
        "\n",
        "loss = train_4()\n",
        "print(loss)"
      ],
      "metadata": {
        "id": "g9L5aRuOmN0n",
        "outputId": "38f50a02-0de1-484a-e241-91cc79cae03d",
        "colab": {
          "base_uri": "https://localhost:8080/"
        }
      },
      "execution_count": 49,
      "outputs": [
        {
          "output_type": "stream",
          "name": "stdout",
          "text": [
            "0.6927981972694397\n"
          ]
        }
      ]
    },
    {
      "cell_type": "markdown",
      "source": [
        "\n",
        "E05: look up and use F.cross_entropy instead. You should achieve the same result. Can you think of why we'd prefer to use F.cross_entropy instead?"
      ],
      "metadata": {
        "id": "8VFHbjP8E1Zn"
      }
    },
    {
      "cell_type": "markdown",
      "source": [
        "Calculates the cross entropy between two distributions (predicted and label)\n",
        "It does so by calculating -sum([p[i]*log2(q[i]) for i in range(len(p))])\n",
        "compared to our previous implementation, which took exponent, normalized and then took log and mean of output, cross entropy only takes the product of p and log(q) and integrates softmax and log\n",
        "\n",
        "Why do we prefer cross entropy?\n",
        "More efficient. less computations."
      ],
      "metadata": {
        "id": "D-l1HID6vwS8"
      }
    },
    {
      "cell_type": "code",
      "source": [
        "# initialize and train model\n",
        "def train_5(reg=0.001):\n",
        "  # Initialize Network\n",
        "  g = torch.Generator().manual_seed(2147483647)\n",
        "  W = torch.randn((756, 27), generator=g, requires_grad=True)\n",
        "\n",
        "  for k in range(100):\n",
        "    # forward pass\n",
        "    logits = W[X_train] # predict log-counts\n",
        "    loss = F.cross_entropy(logits, y_train)\n",
        "    # print(f\"Loss: \",loss.item())\n",
        "\n",
        "    # backward pass\n",
        "    W.grad = None # set to zero the gradient\n",
        "    loss.backward()\n",
        "    W.data += -50 * W.grad\n",
        "  return loss.item()\n",
        "\n",
        "loss = train_4()\n",
        "print(loss)"
      ],
      "metadata": {
        "id": "wRAtwAxktBIf",
        "outputId": "7fd17d58-1ce6-4c62-c46d-f07d9cadf5a7",
        "colab": {
          "base_uri": "https://localhost:8080/"
        }
      },
      "execution_count": 54,
      "outputs": [
        {
          "output_type": "stream",
          "name": "stdout",
          "text": [
            "0.6927981972694397\n"
          ]
        }
      ]
    },
    {
      "cell_type": "markdown",
      "source": [
        "\n",
        "E06: meta-exercise! Think of a fun/interesting exercise and complete it."
      ],
      "metadata": {
        "id": "E3yrXzL7E2oR"
      }
    },
    {
      "cell_type": "code",
      "execution_count": null,
      "metadata": {
        "id": "bd75241zCTcw"
      },
      "outputs": [],
      "source": []
    }
  ]
}