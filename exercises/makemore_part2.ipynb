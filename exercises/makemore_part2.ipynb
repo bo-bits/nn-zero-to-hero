{
  "nbformat": 4,
  "nbformat_minor": 0,
  "metadata": {
    "colab": {
      "provenance": [],
      "authorship_tag": "ABX9TyOPeyzbNXa44rNPg7VlYdFq",
      "include_colab_link": true
    },
    "kernelspec": {
      "name": "python3",
      "display_name": "Python 3"
    },
    "language_info": {
      "name": "python"
    }
  },
  "cells": [
    {
      "cell_type": "markdown",
      "metadata": {
        "id": "view-in-github",
        "colab_type": "text"
      },
      "source": [
        "<a href=\"https://colab.research.google.com/github/bo-bits/nn-zero-to-hero/blob/master/exercises/makemore_part2.ipynb\" target=\"_parent\"><img src=\"https://colab.research.google.com/assets/colab-badge.svg\" alt=\"Open In Colab\"/></a>"
      ]
    },
    {
      "cell_type": "markdown",
      "source": [
        "E01: Tune the hyperparameters of the training to beat my best validation loss of 2.2\n",
        "  In Andrej's notebook he reaches validation loss of 2.18 with 11897 free parameters\n",
        "  Let's try and beat that...\n",
        "\n",
        "  (1) Let's start by simply adding more features to the characters (10->20). Which gives us 18167 parameters (almost double).\n",
        "\n",
        "\n",
        "*   Training loss: 2.0693\n",
        "*   Validation loss: 2.1462\n",
        "*   Parameters: 18167\n",
        "\n",
        "\n",
        "  (2) If we also increase the hidden layer to 400 elements, up to 35767 free parameters, reduce training loss, but validation loss goes up. We have officially overfit our model. (yay)\n",
        "\n",
        "\n",
        "\n",
        "*   Training loss: 2.0353\n",
        "*   Validation loss: 2.1704\n",
        "*   Parameters: 35767\n",
        "\n",
        "\n",
        "(3) Let's try and increase the context to 4 characters\n",
        "\n",
        "\n",
        "*   Training loss: 2.1382\n",
        "*   Validation loss: 2.2274\n",
        "*   Parameters: 43767\n",
        "\n",
        " Due to the high number of 4-character combinations that appear in the evaluation texts but nowhere in the training text. Hence, their predicted probability is zero.\n",
        "\n",
        "\n",
        "Increasing the context increases the loss. Apparently this might be due to the loss being computed differently.\n",
        "\n",
        "(4) Bring context down to 2 again (same architecture as (2)). Now add weight decay = 0.01\n",
        "\n",
        "*   Training loss: 2.1495\n",
        "*   Validation loss: 2.1718\n",
        "*   Parameters: 35767\n",
        "\n",
        "(5) Change weight decay to 0.001\n",
        "\n",
        "*   Training loss: 2.1554\n",
        "*   Validation loss: 2.1682\n",
        "*   Parameters: 35767\n",
        "\n",
        "\n",
        "E02: I was not careful with the intialization of the network in this video. (1) What is the loss you'd get if the predicted probabilities at initialization were perfectly uniform? What loss do we achieve? (2) Can you tune the initialization to get a starting loss that is much more similar to (1)?\n",
        "\n",
        "When we have a perfectly uniform distribution, all outputs are equally likely. Using cross_entropy this leads to a loss of log(m) where m is the number of classes. For our problem it would be ~3.3\n",
        "\n",
        "We can achieve this loss by minimizing the initialization weights and setting biases of output layer to zero.\n",
        "\n",
        "\n",
        "E03: Read the Bengio et al 2003 paper (link above), implement and try any idea from the paper. Did it work?\n",
        "\n",
        "\n"
      ],
      "metadata": {
        "id": "TJUBoek_J73Q"
      }
    },
    {
      "cell_type": "code",
      "execution_count": 1,
      "metadata": {
        "id": "bXKvIPXdJyFP"
      },
      "outputs": [],
      "source": [
        "import torch\n",
        "import torch.nn.functional as F\n",
        "import matplotlib.pyplot as plt # for making figures\n",
        "%matplotlib inline"
      ]
    },
    {
      "cell_type": "code",
      "source": [
        "# download the names.txt file from github\n",
        "!wget https://raw.githubusercontent.com/karpathy/makemore/master/names.txt\n",
        "words = open('names.txt', 'r').read().splitlines()"
      ],
      "metadata": {
        "colab": {
          "base_uri": "https://localhost:8080/"
        },
        "id": "nv4smMKlKCwJ",
        "outputId": "a84267a4-4c8c-4206-ff4c-fdaf36757d77"
      },
      "execution_count": 2,
      "outputs": [
        {
          "output_type": "stream",
          "name": "stdout",
          "text": [
            "--2024-11-11 11:06:00--  https://raw.githubusercontent.com/karpathy/makemore/master/names.txt\n",
            "Resolving raw.githubusercontent.com (raw.githubusercontent.com)... 185.199.111.133, 185.199.110.133, 185.199.109.133, ...\n",
            "Connecting to raw.githubusercontent.com (raw.githubusercontent.com)|185.199.111.133|:443... connected.\n",
            "HTTP request sent, awaiting response... 200 OK\n",
            "Length: 228145 (223K) [text/plain]\n",
            "Saving to: ‘names.txt’\n",
            "\n",
            "names.txt           100%[===================>] 222.80K  --.-KB/s    in 0.04s   \n",
            "\n",
            "2024-11-11 11:06:00 (6.20 MB/s) - ‘names.txt’ saved [228145/228145]\n",
            "\n"
          ]
        }
      ]
    },
    {
      "cell_type": "code",
      "source": [
        "# build the vocabulary of characters and mappings to/from integers\n",
        "chars = sorted(list(set(''.join(words))))\n",
        "stoi = {s:i+1 for i,s in enumerate(chars)}\n",
        "stoi['.'] = 0\n",
        "itos = {i:s for s,i in stoi.items()}\n",
        "print(itos)"
      ],
      "metadata": {
        "colab": {
          "base_uri": "https://localhost:8080/"
        },
        "id": "HyJCBSA_KLSM",
        "outputId": "6a6ab130-c2da-4af6-f833-123ead76f664"
      },
      "execution_count": 3,
      "outputs": [
        {
          "output_type": "stream",
          "name": "stdout",
          "text": [
            "{1: 'a', 2: 'b', 3: 'c', 4: 'd', 5: 'e', 6: 'f', 7: 'g', 8: 'h', 9: 'i', 10: 'j', 11: 'k', 12: 'l', 13: 'm', 14: 'n', 15: 'o', 16: 'p', 17: 'q', 18: 'r', 19: 's', 20: 't', 21: 'u', 22: 'v', 23: 'w', 24: 'x', 25: 'y', 26: 'z', 0: '.'}\n"
          ]
        }
      ]
    },
    {
      "cell_type": "code",
      "source": [
        "# build the dataset\n",
        "block_size = 3 # context length: how many characters do we take to predict the next one?\n",
        "\n",
        "def build_dataset(words):\n",
        "  X, Y = [], []\n",
        "  for w in words:\n",
        "\n",
        "    #print(w)\n",
        "    context = [0] * block_size\n",
        "    for ch in w + '.':\n",
        "      ix = stoi[ch]\n",
        "      X.append(context)\n",
        "      Y.append(ix)\n",
        "      #print(''.join(itos[i] for i in context), '--->', itos[ix])\n",
        "      context = context[1:] + [ix] # crop and append\n",
        "\n",
        "  X = torch.tensor(X)\n",
        "  Y = torch.tensor(Y)\n",
        "  print(X.shape, Y.shape)\n",
        "  return X, Y\n",
        "\n",
        "import random\n",
        "random.seed(42)\n",
        "random.shuffle(words)\n",
        "n1 = int(0.8*len(words))\n",
        "n2 = int(0.9*len(words))\n",
        "\n",
        "Xtr, Ytr = build_dataset(words[:n1])\n",
        "Xdev, Ydev = build_dataset(words[n1:n2])\n",
        "Xte, Yte = build_dataset(words[n2:])"
      ],
      "metadata": {
        "colab": {
          "base_uri": "https://localhost:8080/"
        },
        "id": "Up2e-DLdKFVy",
        "outputId": "5ba11c98-22d4-453b-db37-d5b83cb71242"
      },
      "execution_count": 4,
      "outputs": [
        {
          "output_type": "stream",
          "name": "stdout",
          "text": [
            "torch.Size([182625, 3]) torch.Size([182625])\n",
            "torch.Size([22655, 3]) torch.Size([22655])\n",
            "torch.Size([22866, 3]) torch.Size([22866])\n"
          ]
        }
      ]
    },
    {
      "cell_type": "code",
      "source": [
        "g = torch.Generator().manual_seed(2147483647) # for reproducibility\n",
        "C = torch.randn((27, 10), generator=g) * 0.001\n",
        "W1 = torch.randn((30, 200), generator=g) * 0.001\n",
        "b1 = torch.randn(200, generator=g) * 0.001\n",
        "W2 = torch.randn((200, 27), generator=g) * 0.001\n",
        "b2 = torch.zeros(27)\n",
        "parameters = [C, W1, b1, W2, b2]"
      ],
      "metadata": {
        "id": "Vw8xH-a2KSQm"
      },
      "execution_count": 14,
      "outputs": []
    },
    {
      "cell_type": "code",
      "source": [
        "W2.shape"
      ],
      "metadata": {
        "colab": {
          "base_uri": "https://localhost:8080/"
        },
        "id": "wWst4-zhN-O7",
        "outputId": "7bf0c517-b1a5-464e-b3b2-7f89f7f89178"
      },
      "execution_count": 15,
      "outputs": [
        {
          "output_type": "execute_result",
          "data": {
            "text/plain": [
              "torch.Size([200, 27])"
            ]
          },
          "metadata": {},
          "execution_count": 15
        }
      ]
    },
    {
      "cell_type": "code",
      "source": [
        "W2.sum(dim=1).shape"
      ],
      "metadata": {
        "colab": {
          "base_uri": "https://localhost:8080/"
        },
        "id": "n411DbCEN_3n",
        "outputId": "96f63434-6a37-4eed-89c5-3c417dbc5a83"
      },
      "execution_count": 16,
      "outputs": [
        {
          "output_type": "execute_result",
          "data": {
            "text/plain": [
              "torch.Size([200])"
            ]
          },
          "metadata": {},
          "execution_count": 16
        }
      ]
    },
    {
      "cell_type": "code",
      "source": [
        "sum(p.nelement() for p in parameters) # number of parameters in total"
      ],
      "metadata": {
        "colab": {
          "base_uri": "https://localhost:8080/"
        },
        "id": "hOKy27qbKaTd",
        "outputId": "37dfff62-983b-4721-bd61-d51f8f872b1a"
      },
      "execution_count": 17,
      "outputs": [
        {
          "output_type": "execute_result",
          "data": {
            "text/plain": [
              "11897"
            ]
          },
          "metadata": {},
          "execution_count": 17
        }
      ]
    },
    {
      "cell_type": "code",
      "source": [
        "for p in parameters:\n",
        "  p.requires_grad = True"
      ],
      "metadata": {
        "id": "qHrupakkKel3"
      },
      "execution_count": 18,
      "outputs": []
    },
    {
      "cell_type": "code",
      "source": [
        "lre = torch.linspace(-3, 0, 1000)\n",
        "lrs = 10**lre"
      ],
      "metadata": {
        "id": "KtU6PdkeKgFa"
      },
      "execution_count": 19,
      "outputs": []
    },
    {
      "cell_type": "code",
      "source": [
        "lri = []\n",
        "lossi = []\n",
        "stepi = []"
      ],
      "metadata": {
        "id": "AmYWL1C4Khm4"
      },
      "execution_count": 20,
      "outputs": []
    },
    {
      "cell_type": "code",
      "source": [
        "for i in range(200000):\n",
        "\n",
        "  # minibatch construct\n",
        "  ix = torch.randint(0, Xtr.shape[0], (32,))\n",
        "\n",
        "  # forward pass\n",
        "  emb = C[Xtr[ix]] # (32, 3, 10)\n",
        "  h = torch.tanh(emb.view(-1, 30) @ W1 + b1) # (32, 100)\n",
        "  logits = h @ W2 + b2 # (32, 27)\n",
        "  # l2_penalty = 0.001 * (torch.square(W2).sum() + torch.square(W1).sum())\n",
        "  loss = F.cross_entropy(logits, Ytr[ix])\n",
        "  #print(loss.item())\n",
        "\n",
        "  # backward pass\n",
        "  for p in parameters:\n",
        "    p.grad = None\n",
        "  loss.backward()\n",
        "\n",
        "  # update\n",
        "  #lr = lrs[i]\n",
        "  if i < 100000:\n",
        "    lr = 0.1\n",
        "  elif i < 150000:\n",
        "    lr=  0.01\n",
        "  else:\n",
        "    lr = 0.001\n",
        "\n",
        "  for p in parameters:\n",
        "    p.data += -lr * p.grad\n",
        "\n",
        "  # track stats\n",
        "  #lri.append(lre[i])\n",
        "  stepi.append(i)\n",
        "  lossi.append(loss.log10().item())\n",
        "\n",
        "print(\"-\"*20, \"Training Model   \", \" \", \"-\"*20)\n",
        "# training loss\n",
        "emb = C[Xtr] # (32, 3, 2)\n",
        "h = torch.tanh(emb.view(-1, 30) @ W1 + b1) # (32, 100)\n",
        "logits = h @ W2 + b2 # (32, 27)\n",
        "loss = F.cross_entropy(logits, Ytr)\n",
        "print(\"Training loss: \", loss.item())\n",
        "# validation loss\n",
        "emb = C[Xdev] # (32, 3, 2)\n",
        "h = torch.tanh(emb.view(-1, 30) @ W1 + b1) # (32, 100)\n",
        "logits = h @ W2 + b2 # (32, 27)\n",
        "loss = F.cross_entropy(logits, Ydev)\n",
        "print(\"Evaluation loss: \", loss.item())\n",
        "# test loss\n",
        "emb = C[Xte] # (32, 3, 2)\n",
        "h = torch.tanh(emb.view(-1, 30) @ W1 + b1) # (32, 100)\n",
        "logits = h @ W2 + b2 # (32, 27)\n",
        "loss = F.cross_entropy(logits, Yte)\n",
        "print(\"Test loss: \", loss.item())\n",
        "\n",
        "#   #print(loss.item())"
      ],
      "metadata": {
        "colab": {
          "base_uri": "https://localhost:8080/"
        },
        "id": "tLfUTk3VKwQd",
        "outputId": "b568f590-b40c-486b-cfed-8af765519e2c"
      },
      "execution_count": 21,
      "outputs": [
        {
          "output_type": "stream",
          "name": "stdout",
          "text": [
            "-------------------- Training Model      --------------------\n",
            "Training loss:  2.143941879272461\n",
            "Evaluation loss:  2.1642792224884033\n",
            "Test loss:  2.1641101837158203\n"
          ]
        }
      ]
    },
    {
      "cell_type": "code",
      "source": [
        "plt.plot(stepi, lossi)"
      ],
      "metadata": {
        "colab": {
          "base_uri": "https://localhost:8080/",
          "height": 448
        },
        "id": "dSvphgHjKywX",
        "outputId": "4c4917ff-4c74-4df0-db7b-8ca904e9b137"
      },
      "execution_count": 23,
      "outputs": [
        {
          "output_type": "execute_result",
          "data": {
            "text/plain": [
              "[<matplotlib.lines.Line2D at 0x7e9f592dd9f0>]"
            ]
          },
          "metadata": {},
          "execution_count": 23
        },
        {
          "output_type": "display_data",
          "data": {
            "text/plain": [
              "<Figure size 640x480 with 1 Axes>"
            ],
            "image/png": "[encoded data removed]"
          },
          "metadata": {}
        }
      ]
    },
    {
      "cell_type": "code",
      "source": [
        "# training loss\n",
        "emb = C[Xtr] # (32, 3, 2)\n",
        "h = torch.tanh(emb.view(-1, 30) @ W1 + b1) # (32, 100)\n",
        "logits = h @ W2 + b2 # (32, 27)\n",
        "loss = F.cross_entropy(logits, Ytr)\n",
        "loss"
      ],
      "metadata": {
        "colab": {
          "base_uri": "https://localhost:8080/"
        },
        "id": "aRDZJGx3K07B",
        "outputId": "4e2c033d-ed89-4def-ac3f-38230aa9dfbf"
      },
      "execution_count": 29,
      "outputs": [
        {
          "output_type": "execute_result",
          "data": {
            "text/plain": [
              "tensor(2.1439, grad_fn=<NllLossBackward0>)"
            ]
          },
          "metadata": {},
          "execution_count": 29
        }
      ]
    },
    {
      "cell_type": "code",
      "source": [
        "# validation loss\n",
        "emb = C[Xdev] # (32, 3, 2)\n",
        "h = torch.tanh(emb.view(-1, 30) @ W1 + b1) # (32, 100)\n",
        "logits = h @ W2 + b2 # (32, 27)\n",
        "loss = F.cross_entropy(logits, Ydev)\n",
        "loss"
      ],
      "metadata": {
        "colab": {
          "base_uri": "https://localhost:8080/"
        },
        "id": "r24AmcsfK2us",
        "outputId": "388b7fa8-8ab4-444a-e3d7-6b5c5c0c788f"
      },
      "execution_count": 27,
      "outputs": [
        {
          "output_type": "execute_result",
          "data": {
            "text/plain": [
              "tensor(2.1643, grad_fn=<NllLossBackward0>)"
            ]
          },
          "metadata": {},
          "execution_count": 27
        }
      ]
    },
    {
      "cell_type": "code",
      "source": [
        "# test loss\n",
        "emb = C[Xte] # (32, 3, 2)\n",
        "h = torch.tanh(emb.view(-1, 30) @ W1 + b1) # (32, 100)\n",
        "logits = h @ W2 + b2 # (32, 27)\n",
        "loss = F.cross_entropy(logits, Yte)\n",
        "loss"
      ],
      "metadata": {
        "colab": {
          "base_uri": "https://localhost:8080/"
        },
        "id": "IRJAyhInK5am",
        "outputId": "7f04bb21-6920-4423-9246-27032da47c63"
      },
      "execution_count": 26,
      "outputs": [
        {
          "output_type": "execute_result",
          "data": {
            "text/plain": [
              "tensor(2.1641, grad_fn=<NllLossBackward0>)"
            ]
          },
          "metadata": {},
          "execution_count": 26
        }
      ]
    },
    {
      "cell_type": "code",
      "source": [
        "# sample from the model\n",
        "g = torch.Generator().manual_seed(2147483647 + 10)\n",
        "\n",
        "for _ in range(20):\n",
        "\n",
        "    out = []\n",
        "    context = [0] * block_size # initialize with all ...\n",
        "    while True:\n",
        "      emb = C[torch.tensor([context])] # (1,block_size,d)\n",
        "      h = torch.tanh(emb.view(1, -1) @ W1 + b1)\n",
        "      logits = h @ W2 + b2\n",
        "      probs = F.softmax(logits, dim=1)\n",
        "      ix = torch.multinomial(probs, num_samples=1, generator=g).item()\n",
        "      context = context[1:] + [ix]\n",
        "      out.append(ix)\n",
        "      if ix == 0:\n",
        "        break\n",
        "\n",
        "    print(''.join(itos[i] for i in out))"
      ],
      "metadata": {
        "colab": {
          "base_uri": "https://localhost:8080/"
        },
        "id": "4XXfLgC8K_a3",
        "outputId": "6634088c-b2fa-4de6-d661-00b4c433a088"
      },
      "execution_count": 30,
      "outputs": [
        {
          "output_type": "stream",
          "name": "stdout",
          "text": [
            "mora.\n",
            "kayah.\n",
            "see.\n",
            "med.\n",
            "rylle.\n",
            "emmacgendrael.\n",
            "adered.\n",
            "elin.\n",
            "shi.\n",
            "jen.\n",
            "eden.\n",
            "estanar.\n",
            "katziviona.\n",
            "cayshubergiaghiel.\n",
            "kindreelle.\n",
            "jetton.\n",
            "kubrey.\n",
            "dariyah.\n",
            "faeh.\n",
            "yuma.\n"
          ]
        }
      ]
    },
    {
      "cell_type": "code",
      "source": [
        "#  EXERCISE 03 - Combine MLP with Interpolated Trigram Probabilitites\n",
        "#  In Bengio et al. paper they mention improved performance by mixing output with probabilities of interpolated trigram model. So let's try it.\n",
        "#  An interpolated trigram takes the combined counts of a unigram, bigram, and trigram model\n",
        "\n",
        "# Create dataset of trigrams\n",
        "\n",
        "import torch\n",
        "import torch.nn.functional as F\n",
        "import matplotlib.pyplot as plt # for making figures\n",
        "%matplotlib inline\n",
        "\n",
        "# download the names.txt file from github\n",
        "!wget https://raw.githubusercontent.com/karpathy/makemore/master/names.txt\n",
        "words = open('names.txt', 'r').read().splitlines()\n",
        "\n",
        "# build the vocabulary of characters and mappings to/from integers\n",
        "chars = sorted(list(set(''.join(words))))\n",
        "stoi = {s:i+1 for i,s in enumerate(chars)}\n",
        "stoi['.'] = 0\n",
        "itos = {i:s for s,i in stoi.items()}\n",
        "print(itos)\n",
        "\n"
      ],
      "metadata": {
        "colab": {
          "base_uri": "https://localhost:8080/"
        },
        "id": "HRLj1DlZLIYL",
        "outputId": "d82dc590-983a-47c9-cb3a-faa4b82846a9"
      },
      "execution_count": 55,
      "outputs": [
        {
          "output_type": "stream",
          "name": "stdout",
          "text": [
            "--2024-11-11 11:50:44--  https://raw.githubusercontent.com/karpathy/makemore/master/names.txt\n",
            "Resolving raw.githubusercontent.com (raw.githubusercontent.com)... 185.199.110.133, 185.199.108.133, 185.199.111.133, ...\n",
            "Connecting to raw.githubusercontent.com (raw.githubusercontent.com)|185.199.110.133|:443... connected.\n",
            "HTTP request sent, awaiting response... 200 OK\n",
            "Length: 228145 (223K) [text/plain]\n",
            "Saving to: ‘names.txt.2’\n",
            "\n",
            "\rnames.txt.2           0%[                    ]       0  --.-KB/s               \rnames.txt.2         100%[===================>] 222.80K  --.-KB/s    in 0.04s   \n",
            "\n",
            "2024-11-11 11:50:44 (6.13 MB/s) - ‘names.txt.2’ saved [228145/228145]\n",
            "\n",
            "{1: 'a', 2: 'b', 3: 'c', 4: 'd', 5: 'e', 6: 'f', 7: 'g', 8: 'h', 9: 'i', 10: 'j', 11: 'k', 12: 'l', 13: 'm', 14: 'n', 15: 'o', 16: 'p', 17: 'q', 18: 'r', 19: 's', 20: 't', 21: 'u', 22: 'v', 23: 'w', 24: 'x', 25: 'y', 26: 'z', 0: '.'}\n"
          ]
        }
      ]
    },
    {
      "cell_type": "code",
      "source": [
        "# Create n-gram counts\n",
        "\n",
        "unigram_counts = torch.zeros(27) + 10e-3\n",
        "bigram_counts = torch.zeros((27,27)) + 10e-3\n",
        "trigram_counts = torch.zeros((27, 27, 27)) + 10e-3\n",
        "\n",
        "for w in words:\n",
        "  w += \".\"\n",
        "  for i, ch in enumerate(w):\n",
        "    unigram_counts[stoi[w[i]]] += 1\n",
        "    if i < 1:\n",
        "      continue\n",
        "    bigram_counts[stoi[w[i-1]], stoi[w[i]]] += 1\n",
        "    if i < 2:\n",
        "      continue\n",
        "    trigram_counts[stoi[w[i-2]], stoi[w[i-1]], stoi[w[i]]] +=1\n",
        "\n",
        "# Normalize Counts\n",
        "unigram_probs = unigram_counts / unigram_counts.sum()\n",
        "bigram_probs = bigram_counts / bigram_counts.sum(dim=1, keepdim=True)\n",
        "trigram_probs = trigram_counts / trigram_counts.sum(dim=2, keepdim=True)\n",
        "\n"
      ],
      "metadata": {
        "id": "Kp6I4vO4VOru"
      },
      "execution_count": 56,
      "outputs": []
    },
    {
      "cell_type": "code",
      "source": [
        "# Set interpolation weights\n",
        "lambda_3 = 0.7  # Weight for trigram probability\n",
        "lambda_2 = 0.2  # Weight for bigram probability\n",
        "lambda_1 = 0.1  # Weight for unigram probability"
      ],
      "metadata": {
        "id": "y-p57K26yeKJ"
      },
      "execution_count": 57,
      "outputs": []
    },
    {
      "cell_type": "code",
      "source": [
        "# Interpolated probabilities\n",
        "\n",
        "inter_probs = lambda_3 * trigram_probs + lambda_2 * bigram_probs + lambda_1 * unigram_probs\n"
      ],
      "metadata": {
        "id": "sVvUNzpIWDe9"
      },
      "execution_count": 58,
      "outputs": []
    },
    {
      "cell_type": "code",
      "source": [
        "# build the dataset\n",
        "block_size = 3 # context length: how many characters do we take to predict the next one?\n",
        "\n",
        "def build_dataset(words):\n",
        "  X, Y = [], []\n",
        "  for w in words:\n",
        "\n",
        "    #print(w)\n",
        "    context = [0] * block_size\n",
        "    for ch in w + '.':\n",
        "      ix = stoi[ch]\n",
        "      X.append(context)\n",
        "      Y.append(ix)\n",
        "      #print(''.join(itos[i] for i in context), '--->', itos[ix])\n",
        "      context = context[1:] + [ix] # crop and append\n",
        "\n",
        "  X = torch.tensor(X)\n",
        "  Y = torch.tensor(Y)\n",
        "  print(X.shape, Y.shape)\n",
        "  return X, Y\n",
        "\n",
        "import random\n",
        "random.seed(42)\n",
        "random.shuffle(words)\n",
        "n1 = int(0.8*len(words))\n",
        "n2 = int(0.9*len(words))\n",
        "\n",
        "Xtr, Ytr = build_dataset(words[:n1])\n",
        "Xdev, Ydev = build_dataset(words[n1:n2])\n",
        "Xte, Yte = build_dataset(words[n2:])"
      ],
      "metadata": {
        "colab": {
          "base_uri": "https://localhost:8080/"
        },
        "id": "dFlow-UW04Wd",
        "outputId": "6de4b871-64eb-4e04-9810-1e991ea1430e"
      },
      "execution_count": 59,
      "outputs": [
        {
          "output_type": "stream",
          "name": "stdout",
          "text": [
            "torch.Size([182625, 3]) torch.Size([182625])\n",
            "torch.Size([22655, 3]) torch.Size([22655])\n",
            "torch.Size([22866, 3]) torch.Size([22866])\n"
          ]
        }
      ]
    },
    {
      "cell_type": "code",
      "source": [
        "g = torch.Generator().manual_seed(2147483647) # for reproducibility\n",
        "C = torch.randn((27, 10), generator=g) * 0.001\n",
        "W1 = torch.randn((30, 200), generator=g) * 0.001\n",
        "b1 = torch.randn(200, generator=g) * 0.001\n",
        "W2 = torch.randn((200, 27), generator=g) * 0.001\n",
        "b2 = torch.zeros(27)\n",
        "parameters = [C, W1, b1, W2, b2]"
      ],
      "metadata": {
        "id": "iuzhz5cC0HcN"
      },
      "execution_count": 60,
      "outputs": []
    },
    {
      "cell_type": "code",
      "source": [
        "for p in parameters:\n",
        "  p.requires_grad = True\n",
        "\n",
        "lre = torch.linspace(-3, 0, 1000)\n",
        "lrs = 10**lre\n",
        "\n",
        "lri = []\n",
        "lossi = []\n",
        "stepi = []\n",
        "\n",
        "alpha = 0.5 # Weight applied to interpolated loss"
      ],
      "metadata": {
        "id": "C4bhO4cA0NAR"
      },
      "execution_count": 61,
      "outputs": []
    },
    {
      "cell_type": "code",
      "source": [
        "\n",
        "# minibatch construct\n",
        "ix = torch.randint(0, Xtr.shape[0], (32,))\n",
        "\n",
        "# forward pass\n",
        "emb = C[Xtr[ix]] # (32, 3, 10)\n",
        "h = torch.tanh(emb.view(-1, 30) @ W1 + b1) # (32, 100)\n",
        "logits = h @ W2 + b2 # (32, 27)\n",
        "\n",
        "# Get prob dist from interpolated model\n",
        "inter_batch_probs = inter_probs[Xtr[ix][:, 1], Xtr[ix][:, 2], :]\n",
        "\n",
        "# Convert mlp logits to probs via softmax\n",
        "mlp_probs = F.softmax(logits, dim=1)\n",
        "\n",
        "# Combine probabilities\n",
        "combined_probs = mlp_probs * alpha + inter_batch_probs * (1-alpha)\n",
        "loss = F.nll_loss(torch.log(combined_probs), Ytr[ix])\n",
        "print(loss.item())"
      ],
      "metadata": {
        "colab": {
          "base_uri": "https://localhost:8080/"
        },
        "id": "MNKpU1VFEUxd",
        "outputId": "facc9fc1-63c0-4975-9dc9-56d8d0baef2f"
      },
      "execution_count": 84,
      "outputs": [
        {
          "output_type": "stream",
          "name": "stdout",
          "text": [
            "3.14431095123291\n"
          ]
        }
      ]
    },
    {
      "cell_type": "code",
      "source": [
        "for i in range(200000):\n",
        "\n",
        "  # minibatch construct\n",
        "  ix = torch.randint(0, Xtr.shape[0], (32,))\n",
        "\n",
        "  # forward pass\n",
        "  emb = C[Xtr[ix]] # (32, 3, 10)\n",
        "  h = torch.tanh(emb.view(-1, 30) @ W1 + b1) # (32, 100)\n",
        "  logits = h @ W2 + b2 # (32, 27)\n",
        "\n",
        "  # Get prob dist from interpolated model\n",
        "  inter_batch_probs = inter_probs[Xtr[ix][:, 1], Xtr[ix][:, 2], :]\n",
        "\n",
        "  # Convert mlp logits to probs via softmax\n",
        "  mlp_probs = F.softmax(logits, dim=1)\n",
        "\n",
        "  # Combine probabilities\n",
        "  combined_probs = mlp_probs * alpha + inter_batch_probs * (1-alpha)\n",
        "  loss = F.nll_loss(torch.log(combined_probs), Ytr[ix])\n",
        "  #print(loss.item())\n",
        "\n",
        "  # backward pass\n",
        "  for p in parameters:\n",
        "    p.grad = None\n",
        "  loss.backward()\n",
        "\n",
        "  # update\n",
        "  #lr = lrs[i]\n",
        "  if i < 100000:\n",
        "    lr = 0.1\n",
        "  elif i < 150000:\n",
        "    lr=  0.01\n",
        "  else:\n",
        "    lr = 0.001\n",
        "\n",
        "  for p in parameters:\n",
        "    p.data += -lr * p.grad\n",
        "\n",
        "  # track stats\n",
        "  #lri.append(lre[i])\n",
        "  stepi.append(i)\n",
        "  lossi.append(loss.log10().item())"
      ],
      "metadata": {
        "id": "GEeQHzJl0MNc"
      },
      "execution_count": 87,
      "outputs": []
    },
    {
      "cell_type": "code",
      "source": [
        "plt.plot(stepi, lossi)"
      ],
      "metadata": {
        "colab": {
          "base_uri": "https://localhost:8080/",
          "height": 448
        },
        "id": "OYLsnCItqgJ3",
        "outputId": "761d17de-97e9-4724-f571-a09be84a65a6"
      },
      "execution_count": 88,
      "outputs": [
        {
          "output_type": "execute_result",
          "data": {
            "text/plain": [
              "[<matplotlib.lines.Line2D at 0x7e9f5910d3f0>]"
            ]
          },
          "metadata": {},
          "execution_count": 88
        },
        {
          "output_type": "display_data",
          "data": {
            "text/plain": [
              "<Figure size 640x480 with 1 Axes>"
            ],
            "image/png": "[encoded data removed]"
          },
          "metadata": {}
        }
      ]
    },
    {
      "cell_type": "code",
      "source": [
        "# training loss\n",
        "emb = C[Xtr] # (32, 3, 10)\n",
        "h = torch.tanh(emb.view(-1, 30) @ W1 + b1) # (32, 100)\n",
        "logits = h @ W2 + b2 # (32, 27)\n",
        "inter_batch_probs = inter_probs[Xtr[:, 1], Xtr[:, 2], :]\n",
        "mlp_probs = F.softmax(logits, dim=1)\n",
        "combined_probs = mlp_probs * alpha + inter_batch_probs * (1-alpha)\n",
        "loss = F.nll_loss(torch.log(combined_probs), Ytr)\n",
        "loss"
      ],
      "metadata": {
        "colab": {
          "base_uri": "https://localhost:8080/"
        },
        "id": "N6iQa5lAJ0Ib",
        "outputId": "1cd0b064-b1e2-46ab-a788-4477856c4c6d"
      },
      "execution_count": 93,
      "outputs": [
        {
          "output_type": "execute_result",
          "data": {
            "text/plain": [
              "tensor(2.1985, grad_fn=<NllLossBackward0>)"
            ]
          },
          "metadata": {},
          "execution_count": 93
        }
      ]
    },
    {
      "cell_type": "code",
      "source": [
        "# dev loss\n",
        "emb = C[Xdev] # (32, 3, 10)\n",
        "h = torch.tanh(emb.view(-1, 30) @ W1 + b1) # (32, 100)\n",
        "logits = h @ W2 + b2 # (32, 27)\n",
        "inter_batch_probs = inter_probs[Xdev[:, 1], Xdev[:, 2], :]\n",
        "mlp_probs = F.softmax(logits, dim=1)\n",
        "combined_probs = mlp_probs * alpha + inter_batch_probs * (1-alpha)\n",
        "loss = F.nll_loss(torch.log(combined_probs), Ydev)\n",
        "loss"
      ],
      "metadata": {
        "colab": {
          "base_uri": "https://localhost:8080/"
        },
        "id": "Ado4p15EKEG8",
        "outputId": "6b202ecb-f9d8-4497-dc77-451a4fad852a"
      },
      "execution_count": 94,
      "outputs": [
        {
          "output_type": "execute_result",
          "data": {
            "text/plain": [
              "tensor(2.2091, grad_fn=<NllLossBackward0>)"
            ]
          },
          "metadata": {},
          "execution_count": 94
        }
      ]
    },
    {
      "cell_type": "code",
      "source": [
        "# test loss\n",
        "emb = C[Xte] # (32, 3, 10)\n",
        "h = torch.tanh(emb.view(-1, 30) @ W1 + b1) # (32, 100)\n",
        "logits = h @ W2 + b2 # (32, 27)\n",
        "inter_batch_probs = inter_probs[Xte[:, 1], Xte[:, 2], :]\n",
        "mlp_probs = F.softmax(logits, dim=1)\n",
        "combined_probs = mlp_probs * alpha + inter_batch_probs * (1-alpha)\n",
        "loss = F.nll_loss(torch.log(combined_probs), Yte)\n",
        "loss"
      ],
      "metadata": {
        "colab": {
          "base_uri": "https://localhost:8080/"
        },
        "id": "Nw3kLYnFKQfE",
        "outputId": "b15e7aa4-55f6-4c1a-9668-718a7a08f22e"
      },
      "execution_count": 95,
      "outputs": [
        {
          "output_type": "execute_result",
          "data": {
            "text/plain": [
              "tensor(2.2103, grad_fn=<NllLossBackward0>)"
            ]
          },
          "metadata": {},
          "execution_count": 95
        }
      ]
    },
    {
      "cell_type": "code",
      "source": [
        "# sample from the model\n",
        "g = torch.Generator().manual_seed(2147483647 + 10)\n",
        "\n",
        "for _ in range(20):\n",
        "\n",
        "    out = []\n",
        "    context = [0] * block_size # initialize with all ...\n",
        "    while True:\n",
        "      emb = C[torch.tensor([context])] # (1,block_size,d)\n",
        "      h = torch.tanh(emb.view(1, -1) @ W1 + b1)\n",
        "      logits = h @ W2 + b2\n",
        "      probs = F.softmax(logits, dim=1)\n",
        "      ix = torch.multinomial(probs, num_samples=1, generator=g).item()\n",
        "      context = context[1:] + [ix]\n",
        "      out.append(ix)\n",
        "      if ix == 0:\n",
        "        break\n",
        "\n",
        "    print(''.join(itos[i] for i in out))"
      ],
      "metadata": {
        "colab": {
          "base_uri": "https://localhost:8080/"
        },
        "id": "f4ux1xgVJp9K",
        "outputId": "da1db3cd-18f4-41b6-88a1-7d8acbc0c71c"
      },
      "execution_count": 96,
      "outputs": [
        {
          "output_type": "stream",
          "name": "stdout",
          "text": [
            "mora.\n",
            "kayanniel.\n",
            "madhayla.\n",
            "remmasien.\n",
            "ram.\n",
            "cadelynn.\n",
            "lilynn.\n",
            "bren.\n",
            "edelisson.\n",
            "arrelynn.\n",
            "sharlin.\n",
            "shuhmaniha.\n",
            "jest.\n",
            "jaireth.\n",
            "konnie.\n",
            "casube.\n",
            "aveer.\n",
            "jaylenels.\n",
            "kayshayan.\n",
            "amahil.\n"
          ]
        }
      ]
    }
  ]
}